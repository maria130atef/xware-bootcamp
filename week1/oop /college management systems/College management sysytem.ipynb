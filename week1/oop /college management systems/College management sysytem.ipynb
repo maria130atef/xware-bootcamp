{
 "cells": [
  {
   "cell_type": "code",
   "execution_count": 79,
   "metadata": {},
   "outputs": [
    {
     "name": "stdout",
     "output_type": "stream",
     "text": [
      "ID : E1  | First Name : merna  | Last Name : tarek  | Age : 22  | Address : assuit   | Position  : Hr   | Salary  : 10000\n",
      "***********************\n",
      "ID : E1  | First Name : merna  | Last Name : tarek  | Age : 22  | Address : Sohage   | Position  : Hr   | Salary  : 10000\n"
     ]
    }
   ],
   "source": [
    "class Preson:\n",
    " def __init__(self,Fname,Lname,age,address):\n",
    "        self.Fname=Fname\n",
    "        self.Lname=Lname\n",
    "        self.age=age\n",
    "        self.address=address\n",
    "\n",
    "        \n",
    "class  Employee(Preson):\n",
    "    def __init__(self,employee_id,Fname,Lname,age,address,position,salary):\n",
    "        Preson.__init__(self,Fname,Lname,age,address)\n",
    "        self.employee_id=employee_id\n",
    "        self.position=position\n",
    "        self.salary=salary\n",
    "\n",
    "    def  get_employee_info(self):\n",
    "        print(\"ID :\",self.employee_id,\" | First Name :\",self.Fname,\" | Last Name :\",self.Lname,\" | Age :\",self.age,\" | Address :\" ,self.address, \"  | Position  :\",self.position,\"  | Salary  :\",self.salary)\n",
    "\n",
    "\n",
    "    def update_address(self,new_address):\n",
    "        self.address=new_address\n",
    "        \n",
    "\n",
    "\n",
    "E1=Employee(\"E1\",'merna',\"tarek\",22,\"assuit\",\"Hr\",10000)\n",
    "E1.get_employee_info()\n",
    "print(\"***********************\")\n",
    "E1.update_address(\"Sohage\")\n",
    "E1.get_employee_info()\n"
   ]
  },
  {
   "cell_type": "code",
   "execution_count": 80,
   "metadata": {},
   "outputs": [
    {
     "name": "stdout",
     "output_type": "stream",
     "text": [
      "ID : s1  | First Name : maria  | Last Name : Atef  | Age : 22  | Address : assuit   | Enrolled  : []\n",
      "ID : s2  | First Name : Rahil  | Last Name : Raft  | Age : 17  | Address : Cairo   | Enrolled  : ['cs2', 'cs3']\n",
      "***********************\n",
      "ID : s1  | First Name : maria  | Last Name : Atef  | Age : 22  | Address : assuit   | Enrolled  : ['cs1', 'cs2', 'cs3']\n",
      "***********************\n",
      "ID : s1  | First Name : maria  | Last Name : Atef  | Age : 22  | Address : assuit   | Enrolled  : ['cs1', 'cs2']\n"
     ]
    }
   ],
   "source": [
    "class  student(Preson) :\n",
    "    def __init__(self,student_id,Fname,Lname,age,address,enrolled_courses=[]):\n",
    "        Preson.__init__(self,Fname,Lname,age,address)\n",
    "        self.student_id=student_id\n",
    "        self.enrolled_courses=enrolled_courses\n",
    "\n",
    "\n",
    "    def enroll_course(self,course_id):\n",
    "        self.enrolled_courses.append(course_id)\n",
    "\n",
    "    def drop_course(self,course_id):\n",
    "        self.enrolled_courses.remove(course_id)\n",
    "    \n",
    "\n",
    "    def  get_student_info(self):\n",
    "        print(\"ID :\",self.student_id,\" | First Name :\",self.Fname,\" | Last Name :\",self.Lname,\" | Age :\",self.age,\" | Address :\" ,self.address, \"  | Enrolled  :\",self.enrolled_courses)\n",
    "\n",
    "\n",
    "\n",
    "\n",
    "\n",
    "\n",
    "s1=student(\"s1\",'maria',\"Atef\",22,\"assuit\",[])\n",
    "s2=student(\"s2\",'Rahil',\"Raft\",17,\"Cairo\",['cs2','cs3'])\n",
    "s3=student(\"s3\",'shahd',\"Ashrf\",20,\"Mina\",[])\n",
    "\n",
    "s1.get_student_info()\n",
    "s2.get_student_info()\n",
    "\n",
    "\n",
    "print(\"***********************\")\n",
    "s1.enroll_course(c1.course_id)\n",
    "s1.enroll_course(c2.course_id)\n",
    "s1.enroll_course(c3.course_id)\n",
    "\n",
    "s1.get_student_info()\n",
    "print(\"***********************\")\n",
    "s1.drop_course(c3.course_id)\n",
    "s1.get_student_info()"
   ]
  },
  {
   "cell_type": "code",
   "execution_count": 81,
   "metadata": {},
   "outputs": [
    {
     "name": "stdout",
     "output_type": "stream",
     "text": [
      "ID : pr1  | First Name : Ahmed  | Last Name : Samir  | Age : 40  | Address : Cairo  | Department : IS   | courses_taught  : []\n",
      "***********************\n",
      "ID : pr1  | First Name : Ahmed  | Last Name : Samir  | Age : 40  | Address : Cairo  | Department : IS   | courses_taught  : ['cs1', 'cs2', 'cs3', 'cs4']\n",
      "***********************\n",
      "ID : pr1  | First Name : Ahmed  | Last Name : Samir  | Age : 40  | Address : Cairo  | Department : IS   | courses_taught  : ['cs1', 'cs2', 'cs3']\n"
     ]
    }
   ],
   "source": [
    "\n",
    "class  Professor(Preson):\n",
    "    def __init__(self,professor_id,Fname,Lname,age,address,department,courses_taught=[]):\n",
    "        Preson.__init__(self,Fname,Lname,age,address)\n",
    "        self.professor_id=professor_id\n",
    "        self.department=department\n",
    "        self.courses_taught=courses_taught\n",
    "\n",
    "    def assign_course(self,course_id):\n",
    "        self.courses_taught.append(course_id)\n",
    "\n",
    "    def remove_course(self,course_id):\n",
    "        self.courses_taught.remove(course_id)\n",
    "    \n",
    "\n",
    "    def  get_professor_info(self):\n",
    "        \n",
    "        print(\"ID :\",self.professor_id,\" | First Name :\",self.Fname,\" | Last Name :\",self.Lname,\" | Age :\",self.age,\" | Address :\" ,self.address,\" | Department :\" ,self.department, \"  | courses_taught  :\",self.courses_taught)\n",
    "\n",
    "\n",
    "p1=Professor(\"pr1\",'Ahmed',\"Samir\",40,\"Cairo\",\"IS\",[])\n",
    "p1.get_professor_info()\n",
    "print(\"***********************\")\n",
    "p1.assign_course(c1.course_id)\n",
    "p1.assign_course(c2.course_id)\n",
    "p1.assign_course(c3.course_id)\n",
    "p1.assign_course(\"cs4\")\n",
    "\n",
    "\n",
    "p1.get_professor_info()\n",
    "print(\"***********************\")\n",
    "p1.remove_course(\"cs4\")\n",
    "p1.get_professor_info()"
   ]
  },
  {
   "cell_type": "code",
   "execution_count": 82,
   "metadata": {},
   "outputs": [
    {
     "name": "stdout",
     "output_type": "stream",
     "text": [
      "ID : cs1  | Name : oop  | Credits : 4   | professor_id  : pr1   | students_enrolled  : ['s2']\n",
      "***********************\n",
      "ID : cs1  | Name : oop  | Credits : 4   | professor_id  : pr1   | students_enrolled  : ['s2', 's1']\n",
      "***********************\n",
      "ID : cs1  | Name : oop  | Credits : 4   | professor_id  : pr1   | students_enrolled  : ['s1']\n"
     ]
    }
   ],
   "source": [
    "class  Course :\n",
    "    def __init__(self,course_id,name,credits,professor_id,students_enrolled=[]):\n",
    "        self.course_id=course_id\n",
    "        self.name=name\n",
    "        self.credits=credits\n",
    "        self.students_enrolled=students_enrolled\n",
    "        self.professor_id=professor_id\n",
    "\n",
    "    def add_student(self,student_id):\n",
    "        self.students_enrolled.append(student_id)\n",
    "\n",
    "    def remove_student(self,student_id):\n",
    "        self.students_enrolled.remove(student_id)\n",
    "    \n",
    "\n",
    "    def  get_course_info(self):\n",
    "        \n",
    "        print(\"ID :\",self.course_id,\" | Name :\",self.name,\" | Credits :\" ,self.credits,\"  | professor_id  :\",self.professor_id, \"  | students_enrolled  :\",self.students_enrolled )\n",
    "\n",
    "\n",
    "\n",
    "c1=Course(\"cs1\",\"oop\",\"4\",p1.professor_id,[s2.student_id])\n",
    "c2=Course(\"cs2\",\"it\",\"3\",p1.professor_id,[s1.student_id,s2.student_id])\n",
    "c3=Course(\"cs3\",\"AI\",\"2\",p1.professor_id,[s2.student_id])\n",
    "\n",
    "\n",
    "c1.get_course_info()\n",
    "print(\"***********************\")\n",
    "c1.add_student(s1.student_id)\n",
    "c1.get_course_info()\n",
    "print(\"***********************\")\n",
    "c1.remove_student(s2.student_id)\n",
    "c1.get_course_info()\n"
   ]
  },
  {
   "cell_type": "code",
   "execution_count": 85,
   "metadata": {},
   "outputs": [
    {
     "name": "stdout",
     "output_type": "stream",
     "text": [
      "Enrollment_id :  enroll1 | Student_id :  s1 | Courses_ids :  ['cs1', 'cs2'] |  Date :  19/9/2024\n",
      "Enrollment_id :  enroll2 | Student_id :  s2 | Courses_ids :  ['cs2', 'cs3'] |  Date :  20/9/2024\n",
      "Enrollment_id :  enroll3 | Student_id :  s2 | Courses_ids :  ['cs1'] |  Date :  21/9/2024\n",
      "**********************************************\n",
      "Enrollment_id :  None | Student_id :  None | Courses_ids :  None |  Date :  None\n"
     ]
    }
   ],
   "source": [
    "class  Enrollments :\n",
    "    # def __init__(self,Enrollment_id,date,student_id,course_id=[]):\n",
    "    # # def __init__(self):\n",
    "      \n",
    "    #     self.student_id=student_id\n",
    "    #     self.course_id=course_id\n",
    "    #     self.Enrollment_id=Enrollment_id\n",
    "    #     self.date=date\n",
    "        \n",
    "\n",
    "    def enroll(self,Enrollment_id,date,student_id,course_id):\n",
    "\n",
    "        self.Enrollment_id=Enrollment_id\n",
    "        self.student_id=student_id\n",
    "        self.course_id=course_id\n",
    "        self.date=date\n",
    "\n",
    "\n",
    "    def drop(self):\n",
    "        self.Enrollment_id=None\n",
    "        self.student_id=None\n",
    "        self.course_id=None\n",
    "        self.Enrollment_id=None\n",
    "        self.date=None\n",
    "\n",
    "\n",
    "\n",
    "\n",
    "    def get_enrollment_info(self):\n",
    "        print( \"Enrollment_id : \",self.Enrollment_id,\"| Student_id : \",self.student_id,\"| Courses_ids : \",self.course_id,\"|  Date : \",self.date)\n",
    "\n",
    "    \n",
    "\n",
    "        \n",
    "\n",
    "\n",
    "Enroll1=Enrollments()\n",
    "Enroll2=Enrollments()\n",
    "Enroll3=Enrollments()\n",
    "\n",
    "\n",
    "Enroll1.enroll(\"enroll1\",\"19/9/2024\",s1.student_id,[c1.course_id,c2.course_id])\n",
    "Enroll2.enroll(\"enroll2\",\"20/9/2024\",s2.student_id,[c2.course_id,c3.course_id])\n",
    "Enroll3.enroll(\"enroll3\",\"21/9/2024\",s2.student_id,[c1.course_id])\n",
    "\n",
    "# Enroll1.enroll(\"enroll2\",\"23/9/2024\",s1.student_id,c2.course_id)\n",
    "\n",
    "\n",
    "Enroll1.get_enrollment_info()\n",
    "Enroll2.get_enrollment_info()\n",
    "Enroll3.get_enrollment_info()\n",
    "\n",
    "\n",
    "print(\"**********************************************\")\n",
    "\n",
    "Enroll3.drop()\n",
    "\n",
    "Enroll3.get_enrollment_info()\n",
    "\n",
    "\n",
    "\n",
    "\n",
    "        \n"
   ]
  },
  {
   "cell_type": "code",
   "execution_count": null,
   "metadata": {},
   "outputs": [],
   "source": []
  }
 ],
 "metadata": {
  "kernelspec": {
   "display_name": "myenv",
   "language": "python",
   "name": "python3"
  },
  "language_info": {
   "codemirror_mode": {
    "name": "ipython",
    "version": 3
   },
   "file_extension": ".py",
   "mimetype": "text/x-python",
   "name": "python",
   "nbconvert_exporter": "python",
   "pygments_lexer": "ipython3",
   "version": "3.12.3"
  }
 },
 "nbformat": 4,
 "nbformat_minor": 2
}
